{
 "cells": [
  {
   "cell_type": "code",
   "execution_count": 1,
   "id": "e78f2eea-6096-483d-98ad-b6208b252de9",
   "metadata": {},
   "outputs": [],
   "source": [
    "import os\n",
    "import shutil\n",
    "from PIL import Image\n",
    "from patchcraft_ela import patchcraft_ela_analysis"
   ]
  },
  {
   "cell_type": "code",
   "execution_count": 2,
   "id": "c4e8350b-e47f-4f3b-9fd5-cbd0b12ef687",
   "metadata": {},
   "outputs": [],
   "source": [
    "input_dir = \"./data/test\"\n",
    "output_dir = \"./data/processed_test/ela\" # for patchcraft-ela outputs\n",
    "raw_dir = \"./data/processed_test/raw\" # for patchcraft-only\n",
    "\n",
    "categories = [\"ai\", \"nature\"]\n",
    "\n",
    "os.makedirs(output_dir, exist_ok=True)\n",
    "for category in categories:\n",
    "    os.makedirs(os.path.join(output_dir, category, \"rich\"), exist_ok=True)\n",
    "    os.makedirs(os.path.join(output_dir, category, \"poor\"), exist_ok=True)\n",
    "    os.makedirs(os.path.join(raw_dir, category, \"rich\"), exist_ok=True)\n",
    "    os.makedirs(os.path.join(raw_dir, category, \"poor\"), exist_ok=True)"
   ]
  },
  {
   "cell_type": "code",
   "execution_count": 3,
   "id": "615fce3e-a634-429e-a325-8800b5a3be22",
   "metadata": {},
   "outputs": [
    {
     "name": "stdout",
     "output_type": "stream",
     "text": [
      "Preprocessing complete!\n"
     ]
    }
   ],
   "source": [
    "for category in categories:\n",
    "    category_dir = os.path.join(input_dir, category)\n",
    "    output_category_dir = os.path.join(output_dir, category)\n",
    "    raw_category_dir = os.path.join(raw_dir, category)\n",
    "\n",
    "    for image_name in os.listdir(category_dir):\n",
    "        image_path = os.path.join(category_dir, image_name)\n",
    "        try:\n",
    "            # run the preprocessing function\n",
    "            results = patchcraft_ela_analysis(image_path, output_category_dir)\n",
    "\n",
    "            # save to the correct folders\n",
    "            shutil.move(results[\"rich_ela\"], os.path.join(output_category_dir, \"rich\", image_name))\n",
    "            shutil.move(results[\"poor_ela\"], os.path.join(output_category_dir, \"poor\", image_name))\n",
    "            shutil.move(results[\"rich_texture\"], os.path.join(raw_category_dir, \"rich\", image_name))\n",
    "            shutil.move(results[\"poor_texture\"], os.path.join(raw_category_dir, \"poor\", image_name))\n",
    "\n",
    "        except Exception as e:\n",
    "            print(f\"Error processing {image_name}: {e}\")\n",
    "\n",
    "print(\"Preprocessing complete!\")"
   ]
  },
  {
   "cell_type": "code",
   "execution_count": null,
   "id": "03248502-4aed-47db-aeee-0e85a93d6343",
   "metadata": {},
   "outputs": [],
   "source": []
  }
 ],
 "metadata": {
  "kernelspec": {
   "display_name": "Python 3 (ipykernel)",
   "language": "python",
   "name": "python3"
  },
  "language_info": {
   "codemirror_mode": {
    "name": "ipython",
    "version": 3
   },
   "file_extension": ".py",
   "mimetype": "text/x-python",
   "name": "python",
   "nbconvert_exporter": "python",
   "pygments_lexer": "ipython3",
   "version": "3.12.8"
  }
 },
 "nbformat": 4,
 "nbformat_minor": 5
}
