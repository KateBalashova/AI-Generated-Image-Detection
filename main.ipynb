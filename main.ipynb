{
 "cells": [
  {
   "cell_type": "code",
   "execution_count": 17,
   "id": "6f597247-e727-4ea0-aacd-c87ccf21056c",
   "metadata": {},
   "outputs": [],
   "source": [
    "import os\n",
    "import random\n",
    "import torch\n",
    "import torch.nn as nn\n",
    "import torch.optim as optim\n",
    "import torchvision.transforms as transforms\n",
    "import torchvision.models as models\n",
    "import numpy as np\n",
    "import matplotlib.pyplot as plt\n",
    "from torch.utils.data import Dataset, DataLoader, random_split\n",
    "from PIL import Image"
   ]
  },
  {
   "cell_type": "code",
   "execution_count": 18,
   "id": "999ef399-72ee-4052-8e6d-7f343e85a9ed",
   "metadata": {},
   "outputs": [],
   "source": [
    "class PatchCraftDataset(Dataset):\n",
    "    def __init__(self, root_dir, transform=None, sample_fraction=1.0):\n",
    "        self.root_dir = root_dir\n",
    "        self.transform = transform\n",
    "        self.samples = []\n",
    "\n",
    "        categories = [\"ai\", \"nature\"]\n",
    "        labels = {\"ai\": 1, \"nature\": 0}\n",
    "\n",
    "        for category in categories:\n",
    "            rich_dir = os.path.join(root_dir, category, \"rich\")\n",
    "            poor_dir = os.path.join(root_dir, category, \"poor\")\n",
    "\n",
    "            rich_images = sorted(os.listdir(rich_dir))\n",
    "            poor_images = sorted(os.listdir(poor_dir))\n",
    "            num_samples = min(len(rich_images), len(poor_images))\n",
    "\n",
    "            for i in range(num_samples):\n",
    "                rich_path = os.path.join(rich_dir, rich_images[i])\n",
    "                poor_path = os.path.join(poor_dir, poor_images[i])\n",
    "                self.samples.append((rich_path, poor_path, labels[category]))\n",
    "\n",
    "        if sample_fraction < 1.0:\n",
    "            reduced_size = int(sample_fraction * len(self.samples))\n",
    "            self.samples = random.sample(self.samples, reduced_size)\n",
    "\n",
    "    def __len__(self):\n",
    "        return len(self.samples)\n",
    "\n",
    "    def __getitem__(self, idx):\n",
    "        rich_path, poor_path, label = self.samples[idx]\n",
    "        \n",
    "        rich_img = Image.open(rich_path).convert(\"RGB\")\n",
    "        poor_img = Image.open(poor_path).convert(\"RGB\")\n",
    "\n",
    "        if self.transform:\n",
    "            rich_img = self.transform(rich_img)\n",
    "            poor_img = self.transform(poor_img)\n",
    "\n",
    "        return torch.cat((rich_img, poor_img), dim=0), torch.tensor(label, dtype=torch.long)"
   ]
  },
  {
   "cell_type": "code",
   "execution_count": 19,
   "id": "1ce918f6-1662-4f05-9b19-813a1213cda2",
   "metadata": {},
   "outputs": [],
   "source": [
    "transform = transforms.Compose([\n",
    "    transforms.Resize((128, 128)),\n",
    "    transforms.ToTensor(),\n",
    "    transforms.Normalize(mean=[0.5, 0.5, 0.5], std=[0.5, 0.5, 0.5])\n",
    "])\n",
    "\n",
    "dataset = PatchCraftDataset(root_dir=\"data/processed_train/ela\", transform=transform, sample_fraction=1)\n",
    "\n",
    "num_samples = len(dataset)\n",
    "num_val = int(0.1 * num_samples)\n",
    "num_train = num_samples - num_val\n",
    "train_data, val_data = random_split(dataset, [num_train, num_val])\n",
    "\n",
    "train_loader = DataLoader(train_data, batch_size=32, shuffle=True, num_workers=0)\n",
    "val_loader = DataLoader(val_data, batch_size=32, shuffle=False, num_workers=0)"
   ]
  },
  {
   "cell_type": "code",
   "execution_count": 20,
   "id": "346d497e-ff3a-4013-892b-b260d0602088",
   "metadata": {},
   "outputs": [
    {
     "data": {
      "text/plain": [
       "device(type='cuda')"
      ]
     },
     "execution_count": 20,
     "metadata": {},
     "output_type": "execute_result"
    }
   ],
   "source": [
    "device = torch.device(\"cuda\")\n",
    "device"
   ]
  },
  {
   "cell_type": "code",
   "execution_count": 21,
   "id": "374cede9-ea4d-41de-84d4-bb1ed5bf95ef",
   "metadata": {},
   "outputs": [],
   "source": [
    "base_model = models.resnet18(pretrained=True)\n",
    "\n",
    "base_model.conv1 = nn.Conv2d(6, 64, kernel_size=7, stride=2, padding=3, bias=False)\n",
    "\n",
    "base_model.fc = nn.Linear(base_model.fc.in_features, 2)\n",
    "\n",
    "model = base_model.to(device)"
   ]
  },
  {
   "cell_type": "code",
   "execution_count": 22,
   "id": "72af873e-25f3-438a-93c9-0039f9a0a67e",
   "metadata": {},
   "outputs": [],
   "source": [
    "criterion = nn.CrossEntropyLoss()\n",
    "optimizer = optim.Adam(model.parameters(), lr=0.0001)"
   ]
  },
  {
   "cell_type": "code",
   "execution_count": 23,
   "id": "fc190fd1-3750-4963-a4db-2d11e839a09a",
   "metadata": {},
   "outputs": [
    {
     "name": "stdout",
     "output_type": "stream",
     "text": [
      "\n",
      " Epoch 1/10 ---------------------\n",
      "Epoch [1/10] - Train Loss: 0.2289, Val Loss: 15.1447\n",
      "\n",
      " Epoch 2/10 ---------------------\n",
      "Epoch [2/10] - Train Loss: 0.0717, Val Loss: 20.9826\n",
      "\n",
      " Epoch 3/10 ---------------------\n",
      "Epoch [3/10] - Train Loss: 0.0425, Val Loss: 1.5671\n",
      "\n",
      " Epoch 4/10 ---------------------\n",
      "Epoch [4/10] - Train Loss: 0.0383, Val Loss: 1.8326\n",
      "\n",
      " Epoch 5/10 ---------------------\n",
      "Epoch [5/10] - Train Loss: 0.0316, Val Loss: 7.7840\n",
      "\n",
      " Epoch 6/10 ---------------------\n",
      "Epoch [6/10] - Train Loss: 0.0200, Val Loss: 0.0419\n",
      "\n",
      " Epoch 7/10 ---------------------\n",
      "Epoch [7/10] - Train Loss: 0.0216, Val Loss: 1.1841\n",
      "\n",
      " Epoch 8/10 ---------------------\n",
      "Epoch [8/10] - Train Loss: 0.0182, Val Loss: 0.0580\n",
      "\n",
      " Epoch 9/10 ---------------------\n",
      "Batch 788/788 - Loss: 0.0231\n",
      "Early stopping triggered. Training stopped.\n",
      "Fine-Tuning Complete!\n"
     ]
    }
   ],
   "source": [
    "num_epochs = 10\n",
    "train_losses, val_losses = [], []\n",
    "best_val_loss = float(\"inf\")\n",
    "early_stop_patience = 3\n",
    "epochs_no_improve = 0\n",
    "\n",
    "for epoch in range(num_epochs):\n",
    "    model.train()\n",
    "    running_train_loss = 0.0\n",
    "    print(f\"\\n Epoch {epoch+1}/{num_epochs} ---------------------\")\n",
    "    \n",
    "    for batch_idx, (images, labels) in enumerate(train_loader, 1):\n",
    "        images, labels = images.to(device), labels.to(device)\n",
    "\n",
    "        optimizer.zero_grad()\n",
    "        outputs = model(images)\n",
    "        loss = criterion(outputs, labels)\n",
    "        loss.backward()\n",
    "        optimizer.step()\n",
    "\n",
    "        running_train_loss += loss.item()\n",
    "        print(f\"Batch {batch_idx}/{len(train_loader)} - Loss: {loss.item():.4f}\", end=\"\\r\")\n",
    "\n",
    "    avg_train_loss = running_train_loss / len(train_loader)\n",
    "    train_losses.append(avg_train_loss)\n",
    "\n",
    "    model.eval()\n",
    "    running_val_loss = 0.0\n",
    "    with torch.no_grad():\n",
    "        for images, labels in val_loader:\n",
    "            images, labels = images.to(device), labels.to(device)\n",
    "\n",
    "            outputs = model(images)\n",
    "            loss = criterion(outputs, labels)\n",
    "            running_val_loss += loss.item()\n",
    "\n",
    "    avg_val_loss = running_val_loss / len(val_loader)\n",
    "    val_losses.append(avg_val_loss)\n",
    "\n",
    "    if avg_val_loss < best_val_loss:\n",
    "        best_val_loss = avg_val_loss\n",
    "        torch.save(model.state_dict(), \"fine_tuned_patchcraft.pth\")\n",
    "        epochs_no_improve = 0\n",
    "    else:\n",
    "        epochs_no_improve += 1\n",
    "        if epochs_no_improve >= early_stop_patience:\n",
    "            print(\"\\nEarly stopping triggered. Training stopped.\")\n",
    "            break\n",
    "\n",
    "    print(f\"Epoch [{epoch+1}/{num_epochs}] - Train Loss: {avg_train_loss:.4f}, Val Loss: {avg_val_loss:.4f}\")\n",
    "\n",
    "print(\"Fine-Tuning Complete!\")"
   ]
  },
  {
   "cell_type": "code",
   "execution_count": 27,
   "id": "0bbc8434-51c3-4ef6-b0f5-077e1e0433a3",
   "metadata": {},
   "outputs": [
    {
     "data": {
      "image/png": "[encoded data removed]",
      "text/plain": [
       "<Figure size 1000x500 with 1 Axes>"
      ]
     },
     "metadata": {},
     "output_type": "display_data"
    }
   ],
   "source": [
    "plt.figure(figsize=(10, 5))\n",
    "plt.plot(range(1, 10), train_losses, label=\"Train Loss\", marker='o')\n",
    "plt.plot(range(1, 10), val_losses, label=\"Val Loss\", marker='o')\n",
    "plt.xlabel(\"Epochs\")\n",
    "plt.ylabel(\"Loss\")\n",
    "plt.title(\"Training & Validation Loss\")\n",
    "plt.legend()\n",
    "plt.grid()\n",
    "plt.show()"
   ]
  },
  {
   "cell_type": "code",
   "execution_count": null,
   "id": "663e9b43-63cf-4d46-a010-aa7399f793e8",
   "metadata": {},
   "outputs": [],
   "source": []
  }
 ],
 "metadata": {
  "kernelspec": {
   "display_name": "Python 3 (ipykernel)",
   "language": "python",
   "name": "python3"
  },
  "language_info": {
   "codemirror_mode": {
    "name": "ipython",
    "version": 3
   },
   "file_extension": ".py",
   "mimetype": "text/x-python",
   "name": "python",
   "nbconvert_exporter": "python",
   "pygments_lexer": "ipython3",
   "version": "3.12.8"
  }
 },
 "nbformat": 4,
 "nbformat_minor": 5
}
